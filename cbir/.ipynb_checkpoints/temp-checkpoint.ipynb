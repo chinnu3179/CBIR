{
 "cells": [
  {
   "cell_type": "code",
   "execution_count": null,
   "id": "e7d92dd3",
   "metadata": {},
   "outputs": [],
   "source": [
    "\n",
    "import argparse\n",
    "import glob\n",
    "import cv2"
   ]
  },
  {
   "cell_type": "code",
   "execution_count": null,
   "id": "49eacfd8",
   "metadata": {},
   "outputs": [],
   "source": [
    "ap = argparse.ArgumentParser()\n",
    "ap.add_argument(\"-d\",\"--dataset\", required = True , help = \"Path to directory that contains images\")\n",
    "ap.add_argument(\"-i\",\"--index\", required = True , help = \"Path to where the index will be stored\")\n",
    "args = vars(ap.parse_args())\n",
    "cd = ColorDescriptor.ColorDescriptor((8,12,13))# bins\n",
    "output = open(args[\"index\"],\"w\")"
   ]
  },
  {
   "cell_type": "code",
   "execution_count": null,
   "id": "50ad2f19",
   "metadata": {},
   "outputs": [],
   "source": [
    "for imagePath in glob.glob(args[\"dataset\"]+\"/*.jpg\"):\n",
    "    imageUID =  imagePath[imagePath.rfind(\"/\")+1:]\n",
    "    image = cv2.imread(imagePath)\n",
    "    features = cd.describe(image)\n",
    "    features = [str(f) for f in features]\n",
    "    output.write(\"%s,%s\\n\" % (imageUID, \",\".join(features)))\n",
    "output.close()"
   ]
  }
 ],
 "metadata": {
  "kernelspec": {
   "display_name": "Python 3",
   "language": "python",
   "name": "python3"
  }
 },
 "nbformat": 4,
 "nbformat_minor": 5
}
